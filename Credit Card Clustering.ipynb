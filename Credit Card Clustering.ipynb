{
  "nbformat": 4,
  "nbformat_minor": 0,
  "metadata": {
    "colab": {
      "name": "Untitled1.ipynb",
      "provenance": []
    },
    "kernelspec": {
      "name": "python3",
      "display_name": "Python 3"
    }
  },
  "cells": [
    {
      "cell_type": "code",
      "metadata": {
        "id": "FYFSLucIDhYw",
        "colab_type": "code",
        "colab": {}
      },
      "source": [
        "import pandas as pd\n",
        "import numpy as np\n",
        "import matplotlib.pyplot as plt\n",
        "import seaborn as sns"
      ],
      "execution_count": 0,
      "outputs": []
    },
    {
      "cell_type": "markdown",
      "metadata": {
        "id": "lPm6kS_rDzxP",
        "colab_type": "text"
      },
      "source": [
        "##**LOAD DATA**"
      ]
    },
    {
      "cell_type": "code",
      "metadata": {
        "id": "CNBS4shUDzA4",
        "colab_type": "code",
        "colab": {}
      },
      "source": [
        "data = pd.read_csv(\"credit_card_clustering.csv\")"
      ],
      "execution_count": 0,
      "outputs": []
    },
    {
      "cell_type": "code",
      "metadata": {
        "id": "ozMIl9_JDxjd",
        "colab_type": "code",
        "colab": {
          "base_uri": "https://localhost:8080/",
          "height": 217
        },
        "outputId": "43d756c9-0fca-49e8-9d85-beb32e065be0"
      },
      "source": [
        "data.head()"
      ],
      "execution_count": 112,
      "outputs": [
        {
          "output_type": "execute_result",
          "data": {
            "text/html": [
              "<div>\n",
              "<style scoped>\n",
              "    .dataframe tbody tr th:only-of-type {\n",
              "        vertical-align: middle;\n",
              "    }\n",
              "\n",
              "    .dataframe tbody tr th {\n",
              "        vertical-align: top;\n",
              "    }\n",
              "\n",
              "    .dataframe thead th {\n",
              "        text-align: right;\n",
              "    }\n",
              "</style>\n",
              "<table border=\"1\" class=\"dataframe\">\n",
              "  <thead>\n",
              "    <tr style=\"text-align: right;\">\n",
              "      <th></th>\n",
              "      <th>CUST_ID</th>\n",
              "      <th>BALANCE</th>\n",
              "      <th>BALANCE_FREQUENCY</th>\n",
              "      <th>PURCHASES</th>\n",
              "      <th>ONEOFF_PURCHASES</th>\n",
              "      <th>INSTALLMENTS_PURCHASES</th>\n",
              "      <th>CASH_ADVANCE</th>\n",
              "      <th>PURCHASES_FREQUENCY</th>\n",
              "      <th>ONEOFF_PURCHASES_FREQUENCY</th>\n",
              "      <th>PURCHASES_INSTALLMENTS_FREQUENCY</th>\n",
              "      <th>CASH_ADVANCE_FREQUENCY</th>\n",
              "      <th>CASH_ADVANCE_TRX</th>\n",
              "      <th>PURCHASES_TRX</th>\n",
              "      <th>CREDIT_LIMIT</th>\n",
              "      <th>PAYMENTS</th>\n",
              "      <th>MINIMUM_PAYMENTS</th>\n",
              "      <th>PRC_FULL_PAYMENT</th>\n",
              "      <th>TENURE</th>\n",
              "    </tr>\n",
              "  </thead>\n",
              "  <tbody>\n",
              "    <tr>\n",
              "      <th>0</th>\n",
              "      <td>C10001</td>\n",
              "      <td>40.900749</td>\n",
              "      <td>0.818182</td>\n",
              "      <td>95.40</td>\n",
              "      <td>0.00</td>\n",
              "      <td>95.4</td>\n",
              "      <td>0.000000</td>\n",
              "      <td>0.166667</td>\n",
              "      <td>0.000000</td>\n",
              "      <td>0.083333</td>\n",
              "      <td>0.000000</td>\n",
              "      <td>0</td>\n",
              "      <td>2</td>\n",
              "      <td>1000.0</td>\n",
              "      <td>201.802084</td>\n",
              "      <td>139.509787</td>\n",
              "      <td>0.000000</td>\n",
              "      <td>12</td>\n",
              "    </tr>\n",
              "    <tr>\n",
              "      <th>1</th>\n",
              "      <td>C10002</td>\n",
              "      <td>3202.467416</td>\n",
              "      <td>0.909091</td>\n",
              "      <td>0.00</td>\n",
              "      <td>0.00</td>\n",
              "      <td>0.0</td>\n",
              "      <td>6442.945483</td>\n",
              "      <td>0.000000</td>\n",
              "      <td>0.000000</td>\n",
              "      <td>0.000000</td>\n",
              "      <td>0.250000</td>\n",
              "      <td>4</td>\n",
              "      <td>0</td>\n",
              "      <td>7000.0</td>\n",
              "      <td>4103.032597</td>\n",
              "      <td>1072.340217</td>\n",
              "      <td>0.222222</td>\n",
              "      <td>12</td>\n",
              "    </tr>\n",
              "    <tr>\n",
              "      <th>2</th>\n",
              "      <td>C10003</td>\n",
              "      <td>2495.148862</td>\n",
              "      <td>1.000000</td>\n",
              "      <td>773.17</td>\n",
              "      <td>773.17</td>\n",
              "      <td>0.0</td>\n",
              "      <td>0.000000</td>\n",
              "      <td>1.000000</td>\n",
              "      <td>1.000000</td>\n",
              "      <td>0.000000</td>\n",
              "      <td>0.000000</td>\n",
              "      <td>0</td>\n",
              "      <td>12</td>\n",
              "      <td>7500.0</td>\n",
              "      <td>622.066742</td>\n",
              "      <td>627.284787</td>\n",
              "      <td>0.000000</td>\n",
              "      <td>12</td>\n",
              "    </tr>\n",
              "    <tr>\n",
              "      <th>3</th>\n",
              "      <td>C10004</td>\n",
              "      <td>1666.670542</td>\n",
              "      <td>0.636364</td>\n",
              "      <td>1499.00</td>\n",
              "      <td>1499.00</td>\n",
              "      <td>0.0</td>\n",
              "      <td>205.788017</td>\n",
              "      <td>0.083333</td>\n",
              "      <td>0.083333</td>\n",
              "      <td>0.000000</td>\n",
              "      <td>0.083333</td>\n",
              "      <td>1</td>\n",
              "      <td>1</td>\n",
              "      <td>7500.0</td>\n",
              "      <td>0.000000</td>\n",
              "      <td>NaN</td>\n",
              "      <td>0.000000</td>\n",
              "      <td>12</td>\n",
              "    </tr>\n",
              "    <tr>\n",
              "      <th>4</th>\n",
              "      <td>C10005</td>\n",
              "      <td>817.714335</td>\n",
              "      <td>1.000000</td>\n",
              "      <td>16.00</td>\n",
              "      <td>16.00</td>\n",
              "      <td>0.0</td>\n",
              "      <td>0.000000</td>\n",
              "      <td>0.083333</td>\n",
              "      <td>0.083333</td>\n",
              "      <td>0.000000</td>\n",
              "      <td>0.000000</td>\n",
              "      <td>0</td>\n",
              "      <td>1</td>\n",
              "      <td>1200.0</td>\n",
              "      <td>678.334763</td>\n",
              "      <td>244.791237</td>\n",
              "      <td>0.000000</td>\n",
              "      <td>12</td>\n",
              "    </tr>\n",
              "  </tbody>\n",
              "</table>\n",
              "</div>"
            ],
            "text/plain": [
              "  CUST_ID      BALANCE  ...  PRC_FULL_PAYMENT  TENURE\n",
              "0  C10001    40.900749  ...          0.000000      12\n",
              "1  C10002  3202.467416  ...          0.222222      12\n",
              "2  C10003  2495.148862  ...          0.000000      12\n",
              "3  C10004  1666.670542  ...          0.000000      12\n",
              "4  C10005   817.714335  ...          0.000000      12\n",
              "\n",
              "[5 rows x 18 columns]"
            ]
          },
          "metadata": {
            "tags": []
          },
          "execution_count": 112
        }
      ]
    },
    {
      "cell_type": "markdown",
      "metadata": {
        "id": "mIUfecqUEI05",
        "colab_type": "text"
      },
      "source": [
        "##**EXPLORATORY DATA ANALYSIS**"
      ]
    },
    {
      "cell_type": "markdown",
      "metadata": {
        "id": "OBeYDR7iEQxZ",
        "colab_type": "text"
      },
      "source": [
        "###How many rows/columns are there?"
      ]
    },
    {
      "cell_type": "code",
      "metadata": {
        "id": "myuKc57sEZBL",
        "colab_type": "code",
        "colab": {
          "base_uri": "https://localhost:8080/",
          "height": 34
        },
        "outputId": "0f932cbf-b994-4964-e88c-ec980c8531db"
      },
      "source": [
        "data.shape"
      ],
      "execution_count": 113,
      "outputs": [
        {
          "output_type": "execute_result",
          "data": {
            "text/plain": [
              "(8950, 18)"
            ]
          },
          "metadata": {
            "tags": []
          },
          "execution_count": 113
        }
      ]
    },
    {
      "cell_type": "markdown",
      "metadata": {
        "id": "AxllIgp7Eslj",
        "colab_type": "text"
      },
      "source": [
        "###How many customers are there?"
      ]
    },
    {
      "cell_type": "code",
      "metadata": {
        "id": "snGYnFvcEvg6",
        "colab_type": "code",
        "colab": {
          "base_uri": "https://localhost:8080/",
          "height": 34
        },
        "outputId": "693f3eae-fd69-44fe-cd33-d01847d015de"
      },
      "source": [
        "data['CUST_ID'].nunique()"
      ],
      "execution_count": 114,
      "outputs": [
        {
          "output_type": "execute_result",
          "data": {
            "text/plain": [
              "8950"
            ]
          },
          "metadata": {
            "tags": []
          },
          "execution_count": 114
        }
      ]
    },
    {
      "cell_type": "markdown",
      "metadata": {
        "id": "E4kq8qC6E-wZ",
        "colab_type": "text"
      },
      "source": [
        "*We have 8.950 Customer IDs*"
      ]
    },
    {
      "cell_type": "markdown",
      "metadata": {
        "id": "xd4krU7bFuPk",
        "colab_type": "text"
      },
      "source": [
        "###What is the tenure distribution of our customers?"
      ]
    },
    {
      "cell_type": "code",
      "metadata": {
        "id": "--WeOTZNEN-5",
        "colab_type": "code",
        "colab": {
          "base_uri": "https://localhost:8080/",
          "height": 158
        },
        "outputId": "11643f4a-7dfb-465c-a7db-cded9e4fec65"
      },
      "source": [
        "data['TENURE'].value_counts()"
      ],
      "execution_count": 115,
      "outputs": [
        {
          "output_type": "execute_result",
          "data": {
            "text/plain": [
              "12    7584\n",
              "11     365\n",
              "10     236\n",
              "6      204\n",
              "8      196\n",
              "7      190\n",
              "9      175\n",
              "Name: TENURE, dtype: int64"
            ]
          },
          "metadata": {
            "tags": []
          },
          "execution_count": 115
        }
      ]
    },
    {
      "cell_type": "markdown",
      "metadata": {
        "id": "ECBuDkmEF6wL",
        "colab_type": "text"
      },
      "source": [
        "*Most of our customers are using credit card for 12 months*"
      ]
    },
    {
      "cell_type": "markdown",
      "metadata": {
        "id": "jH3Cxz3UKD62",
        "colab_type": "text"
      },
      "source": [
        "###How does the credit limit distribution of our customers look like?"
      ]
    },
    {
      "cell_type": "markdown",
      "metadata": {
        "id": "Y1oDJ4fsKN9U",
        "colab_type": "text"
      },
      "source": [
        "Descriptive Statistics"
      ]
    },
    {
      "cell_type": "code",
      "metadata": {
        "id": "_EzqnQvXMpzm",
        "colab_type": "code",
        "colab": {
          "base_uri": "https://localhost:8080/",
          "height": 283
        },
        "outputId": "c664d929-d69a-4a21-8d9b-f571bf47530d"
      },
      "source": [
        "data['CREDIT_LIMIT'].describe(np.arange(0.1, 1, 0.1))"
      ],
      "execution_count": 116,
      "outputs": [
        {
          "output_type": "execute_result",
          "data": {
            "text/plain": [
              "count     8949.000000\n",
              "mean      4494.449450\n",
              "std       3638.815725\n",
              "min         50.000000\n",
              "10%       1200.000000\n",
              "20%       1500.000000\n",
              "30%       2000.000000\n",
              "40%       2500.000000\n",
              "50%       3000.000000\n",
              "60%       4200.000000\n",
              "70%       6000.000000\n",
              "80%       7000.000000\n",
              "90%       9500.000000\n",
              "max      30000.000000\n",
              "Name: CREDIT_LIMIT, dtype: float64"
            ]
          },
          "metadata": {
            "tags": []
          },
          "execution_count": 116
        }
      ]
    },
    {
      "cell_type": "markdown",
      "metadata": {
        "id": "KXlH7al2PEA8",
        "colab_type": "text"
      },
      "source": [
        "Count of Null Credit Limit Values"
      ]
    },
    {
      "cell_type": "code",
      "metadata": {
        "id": "IWBUK8WDNZzD",
        "colab_type": "code",
        "colab": {
          "base_uri": "https://localhost:8080/",
          "height": 70
        },
        "outputId": "d4e9eed0-5bcc-41da-fe40-b15877ac3ac5"
      },
      "source": [
        "data['CREDIT_LIMIT'].isna().value_counts()"
      ],
      "execution_count": 117,
      "outputs": [
        {
          "output_type": "execute_result",
          "data": {
            "text/plain": [
              "False    8949\n",
              "True        1\n",
              "Name: CREDIT_LIMIT, dtype: int64"
            ]
          },
          "metadata": {
            "tags": []
          },
          "execution_count": 117
        }
      ]
    },
    {
      "cell_type": "code",
      "metadata": {
        "id": "ty7mxbmjN8JN",
        "colab_type": "code",
        "colab": {}
      },
      "source": [
        "#Replace null with 0\n",
        "data['CREDIT_LIMIT'].fillna(0, inplace = True)"
      ],
      "execution_count": 0,
      "outputs": []
    },
    {
      "cell_type": "code",
      "metadata": {
        "id": "52-qNI0cOgGQ",
        "colab_type": "code",
        "colab": {
          "base_uri": "https://localhost:8080/",
          "height": 52
        },
        "outputId": "cfcca219-44d9-4746-8528-07c17bd89417"
      },
      "source": [
        "data['CREDIT_LIMIT'].isna().value_counts()"
      ],
      "execution_count": 119,
      "outputs": [
        {
          "output_type": "execute_result",
          "data": {
            "text/plain": [
              "False    8950\n",
              "Name: CREDIT_LIMIT, dtype: int64"
            ]
          },
          "metadata": {
            "tags": []
          },
          "execution_count": 119
        }
      ]
    },
    {
      "cell_type": "code",
      "metadata": {
        "id": "WfYGyfr1NArl",
        "colab_type": "code",
        "colab": {
          "base_uri": "https://localhost:8080/",
          "height": 301
        },
        "outputId": "0f356416-a1ca-483d-ff32-fce5bf8edaf2"
      },
      "source": [
        "sns.distplot(data['CREDIT_LIMIT'], kde=False)"
      ],
      "execution_count": 120,
      "outputs": [
        {
          "output_type": "execute_result",
          "data": {
            "text/plain": [
              "<matplotlib.axes._subplots.AxesSubplot at 0x7f061d02a4a8>"
            ]
          },
          "metadata": {
            "tags": []
          },
          "execution_count": 120
        },
        {
          "output_type": "display_data",
          "data": {
            "image/png": "[encoded data removed]",
            "text/plain": [
              "<Figure size 432x288 with 1 Axes>"
            ]
          },
          "metadata": {
            "tags": []
          }
        }
      ]
    },
    {
      "cell_type": "markdown",
      "metadata": {
        "id": "RrRdpIImW80C",
        "colab_type": "text"
      },
      "source": [
        "###How does balance distribution of our customers look like?"
      ]
    },
    {
      "cell_type": "code",
      "metadata": {
        "id": "60KtfnM9XCvK",
        "colab_type": "code",
        "colab": {
          "base_uri": "https://localhost:8080/",
          "height": 283
        },
        "outputId": "3d02783c-956f-4552-bef3-362b865ca7ab"
      },
      "source": [
        "data['BALANCE'].describe(np.arange(0.1, 1, 0.1))"
      ],
      "execution_count": 121,
      "outputs": [
        {
          "output_type": "execute_result",
          "data": {
            "text/plain": [
              "count     8950.000000\n",
              "mean      1564.474828\n",
              "std       2081.531879\n",
              "min          0.000000\n",
              "10%         23.575529\n",
              "20%         77.238026\n",
              "30%        207.176552\n",
              "40%        467.021989\n",
              "50%        873.385231\n",
              "60%       1207.815587\n",
              "70%       1698.588855\n",
              "80%       2571.434263\n",
              "90%       4338.563657\n",
              "max      19043.138560\n",
              "Name: BALANCE, dtype: float64"
            ]
          },
          "metadata": {
            "tags": []
          },
          "execution_count": 121
        }
      ]
    },
    {
      "cell_type": "code",
      "metadata": {
        "id": "Knm_XgnbXHxd",
        "colab_type": "code",
        "colab": {
          "base_uri": "https://localhost:8080/",
          "height": 296
        },
        "outputId": "709db916-0d56-4311-c0f5-c6cd881e8d78"
      },
      "source": [
        "sns.distplot(data['BALANCE'], kde=False)"
      ],
      "execution_count": 122,
      "outputs": [
        {
          "output_type": "execute_result",
          "data": {
            "text/plain": [
              "<matplotlib.axes._subplots.AxesSubplot at 0x7f061cfd8240>"
            ]
          },
          "metadata": {
            "tags": []
          },
          "execution_count": 122
        },
        {
          "output_type": "display_data",
          "data": {
            "image/png": "[encoded data removed]",
            "text/plain": [
              "<Figure size 432x288 with 1 Axes>"
            ]
          },
          "metadata": {
            "tags": []
          }
        }
      ]
    },
    {
      "cell_type": "markdown",
      "metadata": {
        "id": "6rWQ-xyhPbKz",
        "colab_type": "text"
      },
      "source": [
        "###How does the purchase frequency distribution of our customers look like?"
      ]
    },
    {
      "cell_type": "code",
      "metadata": {
        "id": "W8ZiBZVXGEeV",
        "colab_type": "code",
        "colab": {
          "base_uri": "https://localhost:8080/",
          "height": 283
        },
        "outputId": "7ad64051-fc4d-4196-a908-42cba31c6b40"
      },
      "source": [
        "data['PURCHASES_FREQUENCY'].describe(np.arange(0.1, 1, 0.1))"
      ],
      "execution_count": 123,
      "outputs": [
        {
          "output_type": "execute_result",
          "data": {
            "text/plain": [
              "count    8950.000000\n",
              "mean        0.490351\n",
              "std         0.401371\n",
              "min         0.000000\n",
              "10%         0.000000\n",
              "20%         0.000000\n",
              "30%         0.083333\n",
              "40%         0.250000\n",
              "50%         0.500000\n",
              "60%         0.666667\n",
              "70%         0.857143\n",
              "80%         1.000000\n",
              "90%         1.000000\n",
              "max         1.000000\n",
              "Name: PURCHASES_FREQUENCY, dtype: float64"
            ]
          },
          "metadata": {
            "tags": []
          },
          "execution_count": 123
        }
      ]
    },
    {
      "cell_type": "code",
      "metadata": {
        "id": "77vJO0DyKgeC",
        "colab_type": "code",
        "colab": {
          "base_uri": "https://localhost:8080/",
          "height": 297
        },
        "outputId": "d5b80370-f3e2-456a-a89c-b540cdc05d4b"
      },
      "source": [
        "sns.distplot(data['PURCHASES_FREQUENCY'], kde=False)"
      ],
      "execution_count": 124,
      "outputs": [
        {
          "output_type": "execute_result",
          "data": {
            "text/plain": [
              "<matplotlib.axes._subplots.AxesSubplot at 0x7f061ce5f198>"
            ]
          },
          "metadata": {
            "tags": []
          },
          "execution_count": 124
        },
        {
          "output_type": "display_data",
          "data": {
            "image/png": "[encoded data removed]",
            "text/plain": [
              "<Figure size 432x288 with 1 Axes>"
            ]
          },
          "metadata": {
            "tags": []
          }
        }
      ]
    },
    {
      "cell_type": "markdown",
      "metadata": {
        "id": "VtkWtIKMKWYL",
        "colab_type": "text"
      },
      "source": [
        "###How does the cash advance frequency distribution of our customers look like?"
      ]
    },
    {
      "cell_type": "code",
      "metadata": {
        "id": "QPuVCyUnP2Fx",
        "colab_type": "code",
        "colab": {
          "base_uri": "https://localhost:8080/",
          "height": 283
        },
        "outputId": "adee9721-8ca7-45f6-bd2a-23f982b08c2d"
      },
      "source": [
        "data['CASH_ADVANCE_FREQUENCY'].describe(np.arange(0.1, 1, 0.1))"
      ],
      "execution_count": 125,
      "outputs": [
        {
          "output_type": "execute_result",
          "data": {
            "text/plain": [
              "count    8950.000000\n",
              "mean        0.135144\n",
              "std         0.200121\n",
              "min         0.000000\n",
              "10%         0.000000\n",
              "20%         0.000000\n",
              "30%         0.000000\n",
              "40%         0.000000\n",
              "50%         0.000000\n",
              "60%         0.083333\n",
              "70%         0.166667\n",
              "80%         0.250000\n",
              "90%         0.416667\n",
              "max         1.500000\n",
              "Name: CASH_ADVANCE_FREQUENCY, dtype: float64"
            ]
          },
          "metadata": {
            "tags": []
          },
          "execution_count": 125
        }
      ]
    },
    {
      "cell_type": "code",
      "metadata": {
        "id": "6vRkZlE_P9gm",
        "colab_type": "code",
        "colab": {
          "base_uri": "https://localhost:8080/",
          "height": 297
        },
        "outputId": "fae496d6-2579-4cf8-c958-3e5b7f8b418f"
      },
      "source": [
        "sns.distplot(data['CASH_ADVANCE_FREQUENCY'], kde=False)"
      ],
      "execution_count": 126,
      "outputs": [
        {
          "output_type": "execute_result",
          "data": {
            "text/plain": [
              "<matplotlib.axes._subplots.AxesSubplot at 0x7f061cd6efd0>"
            ]
          },
          "metadata": {
            "tags": []
          },
          "execution_count": 126
        },
        {
          "output_type": "display_data",
          "data": {
            "image/png": "[encoded data removed]",
            "text/plain": [
              "<Figure size 432x288 with 1 Axes>"
            ]
          },
          "metadata": {
            "tags": []
          }
        }
      ]
    },
    {
      "cell_type": "markdown",
      "metadata": {
        "id": "1TIzwBo5QlPd",
        "colab_type": "text"
      },
      "source": [
        "##**CLUSTERING**"
      ]
    },
    {
      "cell_type": "code",
      "metadata": {
        "id": "dGOLsNoyQpF0",
        "colab_type": "code",
        "colab": {}
      },
      "source": [
        "from sklearn.cluster import KMeans"
      ],
      "execution_count": 0,
      "outputs": []
    },
    {
      "cell_type": "code",
      "metadata": {
        "id": "eDa1KIV4QsLz",
        "colab_type": "code",
        "colab": {
          "base_uri": "https://localhost:8080/",
          "height": 197
        },
        "outputId": "02a3299a-c5c2-4a1e-c407-e95e4e338baf"
      },
      "source": [
        "# Get features we need\n",
        "features = ['CREDIT_LIMIT', 'BALANCE', 'PURCHASES_FREQUENCY', 'CASH_ADVANCE_FREQUENCY']\n",
        "X = data[features]\n",
        "\n",
        "# Convert categorical to numeric\n",
        "# X = pd.get_dummies(X_raw)\n",
        "# X_raw.head()\n",
        "\n",
        "X.head()"
      ],
      "execution_count": 128,
      "outputs": [
        {
          "output_type": "execute_result",
          "data": {
            "text/html": [
              "<div>\n",
              "<style scoped>\n",
              "    .dataframe tbody tr th:only-of-type {\n",
              "        vertical-align: middle;\n",
              "    }\n",
              "\n",
              "    .dataframe tbody tr th {\n",
              "        vertical-align: top;\n",
              "    }\n",
              "\n",
              "    .dataframe thead th {\n",
              "        text-align: right;\n",
              "    }\n",
              "</style>\n",
              "<table border=\"1\" class=\"dataframe\">\n",
              "  <thead>\n",
              "    <tr style=\"text-align: right;\">\n",
              "      <th></th>\n",
              "      <th>CREDIT_LIMIT</th>\n",
              "      <th>BALANCE</th>\n",
              "      <th>PURCHASES_FREQUENCY</th>\n",
              "      <th>CASH_ADVANCE_FREQUENCY</th>\n",
              "    </tr>\n",
              "  </thead>\n",
              "  <tbody>\n",
              "    <tr>\n",
              "      <th>0</th>\n",
              "      <td>1000.0</td>\n",
              "      <td>40.900749</td>\n",
              "      <td>0.166667</td>\n",
              "      <td>0.000000</td>\n",
              "    </tr>\n",
              "    <tr>\n",
              "      <th>1</th>\n",
              "      <td>7000.0</td>\n",
              "      <td>3202.467416</td>\n",
              "      <td>0.000000</td>\n",
              "      <td>0.250000</td>\n",
              "    </tr>\n",
              "    <tr>\n",
              "      <th>2</th>\n",
              "      <td>7500.0</td>\n",
              "      <td>2495.148862</td>\n",
              "      <td>1.000000</td>\n",
              "      <td>0.000000</td>\n",
              "    </tr>\n",
              "    <tr>\n",
              "      <th>3</th>\n",
              "      <td>7500.0</td>\n",
              "      <td>1666.670542</td>\n",
              "      <td>0.083333</td>\n",
              "      <td>0.083333</td>\n",
              "    </tr>\n",
              "    <tr>\n",
              "      <th>4</th>\n",
              "      <td>1200.0</td>\n",
              "      <td>817.714335</td>\n",
              "      <td>0.083333</td>\n",
              "      <td>0.000000</td>\n",
              "    </tr>\n",
              "  </tbody>\n",
              "</table>\n",
              "</div>"
            ],
            "text/plain": [
              "   CREDIT_LIMIT      BALANCE  PURCHASES_FREQUENCY  CASH_ADVANCE_FREQUENCY\n",
              "0        1000.0    40.900749             0.166667                0.000000\n",
              "1        7000.0  3202.467416             0.000000                0.250000\n",
              "2        7500.0  2495.148862             1.000000                0.000000\n",
              "3        7500.0  1666.670542             0.083333                0.083333\n",
              "4        1200.0   817.714335             0.083333                0.000000"
            ]
          },
          "metadata": {
            "tags": []
          },
          "execution_count": 128
        }
      ]
    },
    {
      "cell_type": "markdown",
      "metadata": {
        "id": "dAYfQTIZRHRg",
        "colab_type": "text"
      },
      "source": [
        "###Choosing Optimal K"
      ]
    },
    {
      "cell_type": "code",
      "metadata": {
        "id": "DJcAg54hRQct",
        "colab_type": "code",
        "colab": {
          "base_uri": "https://localhost:8080/",
          "height": 293
        },
        "outputId": "25eba03d-329b-4952-93dd-1bf65c58cdd3"
      },
      "source": [
        "# get the sum of squared errors and find where the reduction of the errors are saturated with the increase of k\n",
        "squared_errors = []\n",
        "\n",
        "for num_iter in range(1,21):\n",
        "  km = KMeans(n_clusters=num_iter, random_state=42)\n",
        "  km.fit(X)\n",
        "  squared_errors.append(km.inertia_)\n",
        "\n",
        "# check for the best k to use\n",
        "plt.plot(squared_errors, marker = 'o')"
      ],
      "execution_count": 129,
      "outputs": [
        {
          "output_type": "execute_result",
          "data": {
            "text/plain": [
              "[<matplotlib.lines.Line2D at 0x7f061cc6e8d0>]"
            ]
          },
          "metadata": {
            "tags": []
          },
          "execution_count": 129
        },
        {
          "output_type": "display_data",
          "data": {
            "image/png": "[encoded data removed]",
            "text/plain": [
              "<Figure size 432x288 with 1 Axes>"
            ]
          },
          "metadata": {
            "tags": []
          }
        }
      ]
    },
    {
      "cell_type": "markdown",
      "metadata": {
        "id": "PmKd8cjsRjjx",
        "colab_type": "text"
      },
      "source": [
        "Using the elbow method, I decided to use *k=5*."
      ]
    },
    {
      "cell_type": "code",
      "metadata": {
        "id": "Y84lRG-BRlNF",
        "colab_type": "code",
        "colab": {}
      },
      "source": [
        "# Clustering using KMeans. We choose 5 clusters\n",
        "km = KMeans(n_clusters = 5, random_state = 42)\n",
        "\n",
        "# Fit data to model\n",
        "km.fit(X)\n",
        "\n",
        "# Get labels\n",
        "labels = km.predict(X)\n",
        "\n",
        "# Create new dataframe with features and labels\n",
        "new_data = X.copy()\n",
        "\n",
        "# Add labels to new_data dataframe\n",
        "new_data['labels'] = labels"
      ],
      "execution_count": 0,
      "outputs": []
    },
    {
      "cell_type": "code",
      "metadata": {
        "id": "N_Thc_t2RpcY",
        "colab_type": "code",
        "colab": {
          "base_uri": "https://localhost:8080/",
          "height": 197
        },
        "outputId": "8ea91356-2e8b-4d70-e28b-157606164784"
      },
      "source": [
        "new_data.head()"
      ],
      "execution_count": 131,
      "outputs": [
        {
          "output_type": "execute_result",
          "data": {
            "text/html": [
              "<div>\n",
              "<style scoped>\n",
              "    .dataframe tbody tr th:only-of-type {\n",
              "        vertical-align: middle;\n",
              "    }\n",
              "\n",
              "    .dataframe tbody tr th {\n",
              "        vertical-align: top;\n",
              "    }\n",
              "\n",
              "    .dataframe thead th {\n",
              "        text-align: right;\n",
              "    }\n",
              "</style>\n",
              "<table border=\"1\" class=\"dataframe\">\n",
              "  <thead>\n",
              "    <tr style=\"text-align: right;\">\n",
              "      <th></th>\n",
              "      <th>CREDIT_LIMIT</th>\n",
              "      <th>BALANCE</th>\n",
              "      <th>PURCHASES_FREQUENCY</th>\n",
              "      <th>CASH_ADVANCE_FREQUENCY</th>\n",
              "      <th>labels</th>\n",
              "    </tr>\n",
              "  </thead>\n",
              "  <tbody>\n",
              "    <tr>\n",
              "      <th>0</th>\n",
              "      <td>1000.0</td>\n",
              "      <td>40.900749</td>\n",
              "      <td>0.166667</td>\n",
              "      <td>0.000000</td>\n",
              "      <td>0</td>\n",
              "    </tr>\n",
              "    <tr>\n",
              "      <th>1</th>\n",
              "      <td>7000.0</td>\n",
              "      <td>3202.467416</td>\n",
              "      <td>0.000000</td>\n",
              "      <td>0.250000</td>\n",
              "      <td>2</td>\n",
              "    </tr>\n",
              "    <tr>\n",
              "      <th>2</th>\n",
              "      <td>7500.0</td>\n",
              "      <td>2495.148862</td>\n",
              "      <td>1.000000</td>\n",
              "      <td>0.000000</td>\n",
              "      <td>2</td>\n",
              "    </tr>\n",
              "    <tr>\n",
              "      <th>3</th>\n",
              "      <td>7500.0</td>\n",
              "      <td>1666.670542</td>\n",
              "      <td>0.083333</td>\n",
              "      <td>0.083333</td>\n",
              "      <td>3</td>\n",
              "    </tr>\n",
              "    <tr>\n",
              "      <th>4</th>\n",
              "      <td>1200.0</td>\n",
              "      <td>817.714335</td>\n",
              "      <td>0.083333</td>\n",
              "      <td>0.000000</td>\n",
              "      <td>0</td>\n",
              "    </tr>\n",
              "  </tbody>\n",
              "</table>\n",
              "</div>"
            ],
            "text/plain": [
              "   CREDIT_LIMIT      BALANCE  ...  CASH_ADVANCE_FREQUENCY  labels\n",
              "0        1000.0    40.900749  ...                0.000000       0\n",
              "1        7000.0  3202.467416  ...                0.250000       2\n",
              "2        7500.0  2495.148862  ...                0.000000       2\n",
              "3        7500.0  1666.670542  ...                0.083333       3\n",
              "4        1200.0   817.714335  ...                0.000000       0\n",
              "\n",
              "[5 rows x 5 columns]"
            ]
          },
          "metadata": {
            "tags": []
          },
          "execution_count": 131
        }
      ]
    },
    {
      "cell_type": "markdown",
      "metadata": {
        "id": "BcLo9Z3LRzig",
        "colab_type": "text"
      },
      "source": [
        "###Deep Dive to each Clusters"
      ]
    },
    {
      "cell_type": "markdown",
      "metadata": {
        "id": "adAdvyTqZ5ip",
        "colab_type": "text"
      },
      "source": [
        "*Let each clusters be type of Students (using credit limit as monthly allowance)*"
      ]
    },
    {
      "cell_type": "code",
      "metadata": {
        "id": "R9L2aZNrRrCe",
        "colab_type": "code",
        "colab": {
          "base_uri": "https://localhost:8080/",
          "height": 287
        },
        "outputId": "a3ec57f5-8559-414a-b764-9d2f5b70b57a"
      },
      "source": [
        "# Cluster 0\n",
        "cluster_0 = new_data[new_data['labels']==0]\n",
        "cluster_0.describe()"
      ],
      "execution_count": 132,
      "outputs": [
        {
          "output_type": "execute_result",
          "data": {
            "text/html": [
              "<div>\n",
              "<style scoped>\n",
              "    .dataframe tbody tr th:only-of-type {\n",
              "        vertical-align: middle;\n",
              "    }\n",
              "\n",
              "    .dataframe tbody tr th {\n",
              "        vertical-align: top;\n",
              "    }\n",
              "\n",
              "    .dataframe thead th {\n",
              "        text-align: right;\n",
              "    }\n",
              "</style>\n",
              "<table border=\"1\" class=\"dataframe\">\n",
              "  <thead>\n",
              "    <tr style=\"text-align: right;\">\n",
              "      <th></th>\n",
              "      <th>CREDIT_LIMIT</th>\n",
              "      <th>BALANCE</th>\n",
              "      <th>PURCHASES_FREQUENCY</th>\n",
              "      <th>CASH_ADVANCE_FREQUENCY</th>\n",
              "      <th>labels</th>\n",
              "    </tr>\n",
              "  </thead>\n",
              "  <tbody>\n",
              "    <tr>\n",
              "      <th>count</th>\n",
              "      <td>4845.000000</td>\n",
              "      <td>4845.000000</td>\n",
              "      <td>4845.000000</td>\n",
              "      <td>4845.000000</td>\n",
              "      <td>4845.0</td>\n",
              "    </tr>\n",
              "    <tr>\n",
              "      <th>mean</th>\n",
              "      <td>1926.895654</td>\n",
              "      <td>817.447806</td>\n",
              "      <td>0.444364</td>\n",
              "      <td>0.114711</td>\n",
              "      <td>0.0</td>\n",
              "    </tr>\n",
              "    <tr>\n",
              "      <th>std</th>\n",
              "      <td>819.589753</td>\n",
              "      <td>797.258051</td>\n",
              "      <td>0.396131</td>\n",
              "      <td>0.168778</td>\n",
              "      <td>0.0</td>\n",
              "    </tr>\n",
              "    <tr>\n",
              "      <th>min</th>\n",
              "      <td>0.000000</td>\n",
              "      <td>0.000000</td>\n",
              "      <td>0.000000</td>\n",
              "      <td>0.000000</td>\n",
              "      <td>0.0</td>\n",
              "    </tr>\n",
              "    <tr>\n",
              "      <th>25%</th>\n",
              "      <td>1200.000000</td>\n",
              "      <td>86.793633</td>\n",
              "      <td>0.000000</td>\n",
              "      <td>0.000000</td>\n",
              "      <td>0.0</td>\n",
              "    </tr>\n",
              "    <tr>\n",
              "      <th>50%</th>\n",
              "      <td>1800.000000</td>\n",
              "      <td>637.379659</td>\n",
              "      <td>0.333333</td>\n",
              "      <td>0.000000</td>\n",
              "      <td>0.0</td>\n",
              "    </tr>\n",
              "    <tr>\n",
              "      <th>75%</th>\n",
              "      <td>2500.000000</td>\n",
              "      <td>1298.539837</td>\n",
              "      <td>0.875000</td>\n",
              "      <td>0.166667</td>\n",
              "      <td>0.0</td>\n",
              "    </tr>\n",
              "    <tr>\n",
              "      <th>max</th>\n",
              "      <td>3750.000000</td>\n",
              "      <td>3676.070324</td>\n",
              "      <td>1.000000</td>\n",
              "      <td>1.090909</td>\n",
              "      <td>0.0</td>\n",
              "    </tr>\n",
              "  </tbody>\n",
              "</table>\n",
              "</div>"
            ],
            "text/plain": [
              "       CREDIT_LIMIT      BALANCE  ...  CASH_ADVANCE_FREQUENCY  labels\n",
              "count   4845.000000  4845.000000  ...             4845.000000  4845.0\n",
              "mean    1926.895654   817.447806  ...                0.114711     0.0\n",
              "std      819.589753   797.258051  ...                0.168778     0.0\n",
              "min        0.000000     0.000000  ...                0.000000     0.0\n",
              "25%     1200.000000    86.793633  ...                0.000000     0.0\n",
              "50%     1800.000000   637.379659  ...                0.000000     0.0\n",
              "75%     2500.000000  1298.539837  ...                0.166667     0.0\n",
              "max     3750.000000  3676.070324  ...                1.090909     0.0\n",
              "\n",
              "[8 rows x 5 columns]"
            ]
          },
          "metadata": {
            "tags": []
          },
          "execution_count": 132
        }
      ]
    },
    {
      "cell_type": "markdown",
      "metadata": {
        "id": "oPrUqFSZR-BC",
        "colab_type": "text"
      },
      "source": [
        "Poorest Kid among the class, low budget with high necessity.\n",
        "--> These are still good customers for CC provider given that they have only small credit limit, thus, they still tend to purchase. CC provider can offer these clients with higher credit limit to increase their spending habits."
      ]
    },
    {
      "cell_type": "code",
      "metadata": {
        "id": "1Pra6BZ-R-iA",
        "colab_type": "code",
        "colab": {
          "base_uri": "https://localhost:8080/",
          "height": 287
        },
        "outputId": "4e7ed706-bf65-4fa7-f85a-ac95502ddb56"
      },
      "source": [
        "# Cluster 1\n",
        "cluster_1 = new_data[new_data['labels']==1]\n",
        "cluster_1.describe()"
      ],
      "execution_count": 133,
      "outputs": [
        {
          "output_type": "execute_result",
          "data": {
            "text/html": [
              "<div>\n",
              "<style scoped>\n",
              "    .dataframe tbody tr th:only-of-type {\n",
              "        vertical-align: middle;\n",
              "    }\n",
              "\n",
              "    .dataframe tbody tr th {\n",
              "        vertical-align: top;\n",
              "    }\n",
              "\n",
              "    .dataframe thead th {\n",
              "        text-align: right;\n",
              "    }\n",
              "</style>\n",
              "<table border=\"1\" class=\"dataframe\">\n",
              "  <thead>\n",
              "    <tr style=\"text-align: right;\">\n",
              "      <th></th>\n",
              "      <th>CREDIT_LIMIT</th>\n",
              "      <th>BALANCE</th>\n",
              "      <th>PURCHASES_FREQUENCY</th>\n",
              "      <th>CASH_ADVANCE_FREQUENCY</th>\n",
              "      <th>labels</th>\n",
              "    </tr>\n",
              "  </thead>\n",
              "  <tbody>\n",
              "    <tr>\n",
              "      <th>count</th>\n",
              "      <td>604.000000</td>\n",
              "      <td>604.000000</td>\n",
              "      <td>604.000000</td>\n",
              "      <td>604.000000</td>\n",
              "      <td>604.0</td>\n",
              "    </tr>\n",
              "    <tr>\n",
              "      <th>mean</th>\n",
              "      <td>11753.476821</td>\n",
              "      <td>1203.889987</td>\n",
              "      <td>0.629860</td>\n",
              "      <td>0.083976</td>\n",
              "      <td>1.0</td>\n",
              "    </tr>\n",
              "    <tr>\n",
              "      <th>std</th>\n",
              "      <td>2734.932398</td>\n",
              "      <td>1359.179512</td>\n",
              "      <td>0.388035</td>\n",
              "      <td>0.177840</td>\n",
              "      <td>0.0</td>\n",
              "    </tr>\n",
              "    <tr>\n",
              "      <th>min</th>\n",
              "      <td>8800.000000</td>\n",
              "      <td>0.000000</td>\n",
              "      <td>0.000000</td>\n",
              "      <td>0.000000</td>\n",
              "      <td>1.0</td>\n",
              "    </tr>\n",
              "    <tr>\n",
              "      <th>25%</th>\n",
              "      <td>10000.000000</td>\n",
              "      <td>131.322105</td>\n",
              "      <td>0.250000</td>\n",
              "      <td>0.000000</td>\n",
              "      <td>1.0</td>\n",
              "    </tr>\n",
              "    <tr>\n",
              "      <th>50%</th>\n",
              "      <td>11000.000000</td>\n",
              "      <td>506.955928</td>\n",
              "      <td>0.809091</td>\n",
              "      <td>0.000000</td>\n",
              "      <td>1.0</td>\n",
              "    </tr>\n",
              "    <tr>\n",
              "      <th>75%</th>\n",
              "      <td>13000.000000</td>\n",
              "      <td>2207.449049</td>\n",
              "      <td>1.000000</td>\n",
              "      <td>0.083333</td>\n",
              "      <td>1.0</td>\n",
              "    </tr>\n",
              "    <tr>\n",
              "      <th>max</th>\n",
              "      <td>25000.000000</td>\n",
              "      <td>4968.771623</td>\n",
              "      <td>1.000000</td>\n",
              "      <td>0.916667</td>\n",
              "      <td>1.0</td>\n",
              "    </tr>\n",
              "  </tbody>\n",
              "</table>\n",
              "</div>"
            ],
            "text/plain": [
              "       CREDIT_LIMIT      BALANCE  ...  CASH_ADVANCE_FREQUENCY  labels\n",
              "count    604.000000   604.000000  ...              604.000000   604.0\n",
              "mean   11753.476821  1203.889987  ...                0.083976     1.0\n",
              "std     2734.932398  1359.179512  ...                0.177840     0.0\n",
              "min     8800.000000     0.000000  ...                0.000000     1.0\n",
              "25%    10000.000000   131.322105  ...                0.000000     1.0\n",
              "50%    11000.000000   506.955928  ...                0.000000     1.0\n",
              "75%    13000.000000  2207.449049  ...                0.083333     1.0\n",
              "max    25000.000000  4968.771623  ...                0.916667     1.0\n",
              "\n",
              "[8 rows x 5 columns]"
            ]
          },
          "metadata": {
            "tags": []
          },
          "execution_count": 133
        }
      ]
    },
    {
      "cell_type": "markdown",
      "metadata": {
        "id": "2XRQzICWSEZZ",
        "colab_type": "text"
      },
      "source": [
        "Rich Kid, shopping is life. --> These segment can be classified as the greatest transactors who tend to fully pay their credits given that they have low balance.\n"
      ]
    },
    {
      "cell_type": "code",
      "metadata": {
        "id": "fWdooYKlSEmm",
        "colab_type": "code",
        "colab": {
          "base_uri": "https://localhost:8080/",
          "height": 287
        },
        "outputId": "234f1dab-c8da-40db-cdcb-371e4ec557bd"
      },
      "source": [
        "# Cluster 2\n",
        "cluster_2 = new_data[new_data['labels']==2]\n",
        "cluster_2.describe()"
      ],
      "execution_count": 134,
      "outputs": [
        {
          "output_type": "execute_result",
          "data": {
            "text/html": [
              "<div>\n",
              "<style scoped>\n",
              "    .dataframe tbody tr th:only-of-type {\n",
              "        vertical-align: middle;\n",
              "    }\n",
              "\n",
              "    .dataframe tbody tr th {\n",
              "        vertical-align: top;\n",
              "    }\n",
              "\n",
              "    .dataframe thead th {\n",
              "        text-align: right;\n",
              "    }\n",
              "</style>\n",
              "<table border=\"1\" class=\"dataframe\">\n",
              "  <thead>\n",
              "    <tr style=\"text-align: right;\">\n",
              "      <th></th>\n",
              "      <th>CREDIT_LIMIT</th>\n",
              "      <th>BALANCE</th>\n",
              "      <th>PURCHASES_FREQUENCY</th>\n",
              "      <th>CASH_ADVANCE_FREQUENCY</th>\n",
              "      <th>labels</th>\n",
              "    </tr>\n",
              "  </thead>\n",
              "  <tbody>\n",
              "    <tr>\n",
              "      <th>count</th>\n",
              "      <td>1066.000000</td>\n",
              "      <td>1066.000000</td>\n",
              "      <td>1066.000000</td>\n",
              "      <td>1066.000000</td>\n",
              "      <td>1066.0</td>\n",
              "    </tr>\n",
              "    <tr>\n",
              "      <th>mean</th>\n",
              "      <td>7015.670305</td>\n",
              "      <td>4463.909280</td>\n",
              "      <td>0.423202</td>\n",
              "      <td>0.301499</td>\n",
              "      <td>2.0</td>\n",
              "    </tr>\n",
              "    <tr>\n",
              "      <th>std</th>\n",
              "      <td>1602.483689</td>\n",
              "      <td>1349.785413</td>\n",
              "      <td>0.410153</td>\n",
              "      <td>0.255027</td>\n",
              "      <td>0.0</td>\n",
              "    </tr>\n",
              "    <tr>\n",
              "      <th>min</th>\n",
              "      <td>4000.000000</td>\n",
              "      <td>1773.445786</td>\n",
              "      <td>0.000000</td>\n",
              "      <td>0.000000</td>\n",
              "      <td>2.0</td>\n",
              "    </tr>\n",
              "    <tr>\n",
              "      <th>25%</th>\n",
              "      <td>6000.000000</td>\n",
              "      <td>3464.439923</td>\n",
              "      <td>0.000000</td>\n",
              "      <td>0.083333</td>\n",
              "      <td>2.0</td>\n",
              "    </tr>\n",
              "    <tr>\n",
              "      <th>50%</th>\n",
              "      <td>7000.000000</td>\n",
              "      <td>4347.213453</td>\n",
              "      <td>0.333333</td>\n",
              "      <td>0.250000</td>\n",
              "      <td>2.0</td>\n",
              "    </tr>\n",
              "    <tr>\n",
              "      <th>75%</th>\n",
              "      <td>8500.000000</td>\n",
              "      <td>5354.430774</td>\n",
              "      <td>0.875000</td>\n",
              "      <td>0.500000</td>\n",
              "      <td>2.0</td>\n",
              "    </tr>\n",
              "    <tr>\n",
              "      <th>max</th>\n",
              "      <td>10500.000000</td>\n",
              "      <td>8315.894044</td>\n",
              "      <td>1.000000</td>\n",
              "      <td>1.500000</td>\n",
              "      <td>2.0</td>\n",
              "    </tr>\n",
              "  </tbody>\n",
              "</table>\n",
              "</div>"
            ],
            "text/plain": [
              "       CREDIT_LIMIT      BALANCE  ...  CASH_ADVANCE_FREQUENCY  labels\n",
              "count   1066.000000  1066.000000  ...             1066.000000  1066.0\n",
              "mean    7015.670305  4463.909280  ...                0.301499     2.0\n",
              "std     1602.483689  1349.785413  ...                0.255027     0.0\n",
              "min     4000.000000  1773.445786  ...                0.000000     2.0\n",
              "25%     6000.000000  3464.439923  ...                0.083333     2.0\n",
              "50%     7000.000000  4347.213453  ...                0.250000     2.0\n",
              "75%     8500.000000  5354.430774  ...                0.500000     2.0\n",
              "max    10500.000000  8315.894044  ...                1.500000     2.0\n",
              "\n",
              "[8 rows x 5 columns]"
            ]
          },
          "metadata": {
            "tags": []
          },
          "execution_count": 134
        }
      ]
    },
    {
      "cell_type": "markdown",
      "metadata": {
        "id": "5K9vpQpMSIbQ",
        "colab_type": "text"
      },
      "source": [
        "Semi-Rich Kids. Purchases moderately, uses their Credit Cards as ATM.\n",
        "--> This segment is characterized by customers who have high balances and cash advances which indicates that they are one of the lucrative segments for the credit card provider. These are typically known as revolvers who might be using their credit cards as a loan."
      ]
    },
    {
      "cell_type": "code",
      "metadata": {
        "id": "IrAAoIkCSHqA",
        "colab_type": "code",
        "colab": {
          "base_uri": "https://localhost:8080/",
          "height": 287
        },
        "outputId": "cad2e1d8-f6a5-430c-a673-93160a0f8210"
      },
      "source": [
        "# Cluster 3\n",
        "cluster_3 = new_data[new_data['labels']==3]\n",
        "cluster_3.describe()"
      ],
      "execution_count": 135,
      "outputs": [
        {
          "output_type": "execute_result",
          "data": {
            "text/html": [
              "<div>\n",
              "<style scoped>\n",
              "    .dataframe tbody tr th:only-of-type {\n",
              "        vertical-align: middle;\n",
              "    }\n",
              "\n",
              "    .dataframe tbody tr th {\n",
              "        vertical-align: top;\n",
              "    }\n",
              "\n",
              "    .dataframe thead th {\n",
              "        text-align: right;\n",
              "    }\n",
              "</style>\n",
              "<table border=\"1\" class=\"dataframe\">\n",
              "  <thead>\n",
              "    <tr style=\"text-align: right;\">\n",
              "      <th></th>\n",
              "      <th>CREDIT_LIMIT</th>\n",
              "      <th>BALANCE</th>\n",
              "      <th>PURCHASES_FREQUENCY</th>\n",
              "      <th>CASH_ADVANCE_FREQUENCY</th>\n",
              "      <th>labels</th>\n",
              "    </tr>\n",
              "  </thead>\n",
              "  <tbody>\n",
              "    <tr>\n",
              "      <th>count</th>\n",
              "      <td>2085.000000</td>\n",
              "      <td>2085.000000</td>\n",
              "      <td>2085.000000</td>\n",
              "      <td>2085.000000</td>\n",
              "      <td>2085.0</td>\n",
              "    </tr>\n",
              "    <tr>\n",
              "      <th>mean</th>\n",
              "      <td>5571.133881</td>\n",
              "      <td>798.589969</td>\n",
              "      <td>0.584565</td>\n",
              "      <td>0.081644</td>\n",
              "      <td>3.0</td>\n",
              "    </tr>\n",
              "    <tr>\n",
              "      <th>std</th>\n",
              "      <td>1326.711729</td>\n",
              "      <td>884.236996</td>\n",
              "      <td>0.381823</td>\n",
              "      <td>0.161908</td>\n",
              "      <td>0.0</td>\n",
              "    </tr>\n",
              "    <tr>\n",
              "      <th>min</th>\n",
              "      <td>3750.000000</td>\n",
              "      <td>0.000000</td>\n",
              "      <td>0.000000</td>\n",
              "      <td>0.000000</td>\n",
              "      <td>3.0</td>\n",
              "    </tr>\n",
              "    <tr>\n",
              "      <th>25%</th>\n",
              "      <td>4500.000000</td>\n",
              "      <td>73.507271</td>\n",
              "      <td>0.166667</td>\n",
              "      <td>0.000000</td>\n",
              "      <td>3.0</td>\n",
              "    </tr>\n",
              "    <tr>\n",
              "      <th>50%</th>\n",
              "      <td>5500.000000</td>\n",
              "      <td>400.462305</td>\n",
              "      <td>0.666667</td>\n",
              "      <td>0.000000</td>\n",
              "      <td>3.0</td>\n",
              "    </tr>\n",
              "    <tr>\n",
              "      <th>75%</th>\n",
              "      <td>6500.000000</td>\n",
              "      <td>1395.011267</td>\n",
              "      <td>1.000000</td>\n",
              "      <td>0.083333</td>\n",
              "      <td>3.0</td>\n",
              "    </tr>\n",
              "    <tr>\n",
              "      <th>max</th>\n",
              "      <td>8500.000000</td>\n",
              "      <td>3534.253718</td>\n",
              "      <td>1.000000</td>\n",
              "      <td>1.166667</td>\n",
              "      <td>3.0</td>\n",
              "    </tr>\n",
              "  </tbody>\n",
              "</table>\n",
              "</div>"
            ],
            "text/plain": [
              "       CREDIT_LIMIT      BALANCE  ...  CASH_ADVANCE_FREQUENCY  labels\n",
              "count   2085.000000  2085.000000  ...             2085.000000  2085.0\n",
              "mean    5571.133881   798.589969  ...                0.081644     3.0\n",
              "std     1326.711729   884.236996  ...                0.161908     0.0\n",
              "min     3750.000000     0.000000  ...                0.000000     3.0\n",
              "25%     4500.000000    73.507271  ...                0.000000     3.0\n",
              "50%     5500.000000   400.462305  ...                0.000000     3.0\n",
              "75%     6500.000000  1395.011267  ...                0.083333     3.0\n",
              "max     8500.000000  3534.253718  ...                1.166667     3.0\n",
              "\n",
              "[8 rows x 5 columns]"
            ]
          },
          "metadata": {
            "tags": []
          },
          "execution_count": 135
        }
      ]
    },
    {
      "cell_type": "markdown",
      "metadata": {
        "id": "XxhQWOQdSL5H",
        "colab_type": "text"
      },
      "source": [
        "Semi-Rich Kids but great in budgeting.\n",
        "--> These are actually good customers as they are frequent shoppers. CC provider should encourage them to increase their spending by offering them cashbacks."
      ]
    },
    {
      "cell_type": "code",
      "metadata": {
        "id": "T7hZ20l_SOqP",
        "colab_type": "code",
        "colab": {
          "base_uri": "https://localhost:8080/",
          "height": 287
        },
        "outputId": "ee61a31e-3dab-4ca8-81ea-a8a19f6aec1b"
      },
      "source": [
        "# Cluster 4\n",
        "cluster_4 = new_data[new_data['labels']==4]\n",
        "cluster_4.describe()"
      ],
      "execution_count": 136,
      "outputs": [
        {
          "output_type": "execute_result",
          "data": {
            "text/html": [
              "<div>\n",
              "<style scoped>\n",
              "    .dataframe tbody tr th:only-of-type {\n",
              "        vertical-align: middle;\n",
              "    }\n",
              "\n",
              "    .dataframe tbody tr th {\n",
              "        vertical-align: top;\n",
              "    }\n",
              "\n",
              "    .dataframe thead th {\n",
              "        text-align: right;\n",
              "    }\n",
              "</style>\n",
              "<table border=\"1\" class=\"dataframe\">\n",
              "  <thead>\n",
              "    <tr style=\"text-align: right;\">\n",
              "      <th></th>\n",
              "      <th>CREDIT_LIMIT</th>\n",
              "      <th>BALANCE</th>\n",
              "      <th>PURCHASES_FREQUENCY</th>\n",
              "      <th>CASH_ADVANCE_FREQUENCY</th>\n",
              "      <th>labels</th>\n",
              "    </tr>\n",
              "  </thead>\n",
              "  <tbody>\n",
              "    <tr>\n",
              "      <th>count</th>\n",
              "      <td>350.000000</td>\n",
              "      <td>350.000000</td>\n",
              "      <td>350.000000</td>\n",
              "      <td>350.000000</td>\n",
              "      <td>350.0</td>\n",
              "    </tr>\n",
              "    <tr>\n",
              "      <th>mean</th>\n",
              "      <td>13404.000000</td>\n",
              "      <td>8259.366168</td>\n",
              "      <td>0.529447</td>\n",
              "      <td>0.318342</td>\n",
              "      <td>4.0</td>\n",
              "    </tr>\n",
              "    <tr>\n",
              "      <th>std</th>\n",
              "      <td>3207.427537</td>\n",
              "      <td>2598.714417</td>\n",
              "      <td>0.421216</td>\n",
              "      <td>0.276188</td>\n",
              "      <td>0.0</td>\n",
              "    </tr>\n",
              "    <tr>\n",
              "      <th>min</th>\n",
              "      <td>8000.000000</td>\n",
              "      <td>1409.256223</td>\n",
              "      <td>0.000000</td>\n",
              "      <td>0.000000</td>\n",
              "      <td>4.0</td>\n",
              "    </tr>\n",
              "    <tr>\n",
              "      <th>25%</th>\n",
              "      <td>11112.500000</td>\n",
              "      <td>6461.244543</td>\n",
              "      <td>0.000000</td>\n",
              "      <td>0.083333</td>\n",
              "      <td>4.0</td>\n",
              "    </tr>\n",
              "    <tr>\n",
              "      <th>50%</th>\n",
              "      <td>12500.000000</td>\n",
              "      <td>7903.448143</td>\n",
              "      <td>0.500000</td>\n",
              "      <td>0.250000</td>\n",
              "      <td>4.0</td>\n",
              "    </tr>\n",
              "    <tr>\n",
              "      <th>75%</th>\n",
              "      <td>15000.000000</td>\n",
              "      <td>9355.319654</td>\n",
              "      <td>1.000000</td>\n",
              "      <td>0.500000</td>\n",
              "      <td>4.0</td>\n",
              "    </tr>\n",
              "    <tr>\n",
              "      <th>max</th>\n",
              "      <td>30000.000000</td>\n",
              "      <td>19043.138560</td>\n",
              "      <td>1.000000</td>\n",
              "      <td>1.100000</td>\n",
              "      <td>4.0</td>\n",
              "    </tr>\n",
              "  </tbody>\n",
              "</table>\n",
              "</div>"
            ],
            "text/plain": [
              "       CREDIT_LIMIT       BALANCE  ...  CASH_ADVANCE_FREQUENCY  labels\n",
              "count    350.000000    350.000000  ...              350.000000   350.0\n",
              "mean   13404.000000   8259.366168  ...                0.318342     4.0\n",
              "std     3207.427537   2598.714417  ...                0.276188     0.0\n",
              "min     8000.000000   1409.256223  ...                0.000000     4.0\n",
              "25%    11112.500000   6461.244543  ...                0.083333     4.0\n",
              "50%    12500.000000   7903.448143  ...                0.250000     4.0\n",
              "75%    15000.000000   9355.319654  ...                0.500000     4.0\n",
              "max    30000.000000  19043.138560  ...                1.100000     4.0\n",
              "\n",
              "[8 rows x 5 columns]"
            ]
          },
          "metadata": {
            "tags": []
          },
          "execution_count": 136
        }
      ]
    },
    {
      "cell_type": "markdown",
      "metadata": {
        "id": "gt9qJnZNZOSX",
        "colab_type": "text"
      },
      "source": [
        "Richest kid, not afraid in spending, friend for all season.\n",
        "--> Both transactor and revolver clients. Best Clients. Credit Card provider can offer these clients with even more higher credit limit."
      ]
    }
  ]
}